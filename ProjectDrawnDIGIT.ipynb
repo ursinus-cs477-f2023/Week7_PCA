{
 "cells": [
  {
   "cell_type": "markdown",
   "id": "3e77a02b",
   "metadata": {},
   "source": [
    "# Project Drawn Digit"
   ]
  },
  {
   "cell_type": "code",
   "execution_count": null,
   "id": "9aafcc09",
   "metadata": {},
   "outputs": [],
   "source": [
    "import numpy as np\n",
    "from numpy import linalg\n",
    "import matplotlib.pyplot as plt\n",
    "import skimage\n",
    "import skimage.io\n",
    "import scipy.stats\n",
    "from skimage.transform import resize\n",
    "from PIL import ImageTk, Image, ImageDraw\n",
    "import PIL\n",
    "from tkinter import *"
   ]
  },
  {
   "cell_type": "code",
   "execution_count": null,
   "id": "44aec08a",
   "metadata": {},
   "outputs": [],
   "source": [
    "# Load in all digits\n",
    "res = 28\n",
    "digits = []\n",
    "for i in range(10):\n",
    "    digits.append([])\n",
    "    I = skimage.io.imread(\"Digits/{}.png\".format(i))/255.0\n",
    "    row = 0\n",
    "    col = 0\n",
    "    while row < I.shape[0]:\n",
    "        col = 0\n",
    "        while col < I.shape[1]:\n",
    "            img = I[row:row+res, col:col+res]\n",
    "            if np.sum(img) > 0:\n",
    "                digits[i].append(img)\n",
    "            col += res\n",
    "        row += res\n",
    "    print(len(digits[i]), \"unique \", i, \" digits\")"
   ]
  },
  {
   "cell_type": "markdown",
   "id": "2ab622c4",
   "metadata": {},
   "source": [
    "Now let's create our data matrix"
   ]
  },
  {
   "cell_type": "code",
   "execution_count": null,
   "id": "94ec45d9",
   "metadata": {},
   "outputs": [],
   "source": [
    "X = []\n",
    "y = []\n",
    "for i in range(len(digits)):\n",
    "    for digit in digits[i]:\n",
    "        X.append(digit.flatten())\n",
    "        y.append(i)\n",
    "X = np.array(X)\n",
    "y = np.array(y)\n",
    "print(X.shape)"
   ]
  },
  {
   "cell_type": "markdown",
   "id": "13553b19",
   "metadata": {},
   "source": [
    "Finally, we'll subtract off the mean and find the principal components"
   ]
  },
  {
   "cell_type": "code",
   "execution_count": null,
   "id": "2cc958d0",
   "metadata": {},
   "outputs": [],
   "source": [
    "mu = np.mean(X, axis=0)\n",
    "\n",
    "\n",
    "Y = X - mu\n",
    "A = Y.T.dot(Y)\n",
    "# v will hold the directions of greatest variance in each column\n",
    "# By convention, numpy's eigh returns the columns in increasing order of\n",
    "# eigenvalue, but we want the first few columns to hold the directions \n",
    "# of greatest variance, so we flip them\n",
    "w, v = linalg.eigh(A)\n",
    "# Sort the columns by descending order of varianc\n",
    "idx = np.argsort(-w)\n",
    "w = w[idx]\n",
    "v = v[:, idx]"
   ]
  },
  {
   "cell_type": "code",
   "execution_count": null,
   "id": "7f504c73",
   "metadata": {},
   "outputs": [],
   "source": [
    "print(w[0])\n",
    "highest_var = v[:, 0] # Direction of highest variance in \"space of digits\"\n",
    "print(np.sqrt(np.sum(highest_var**2)))\n",
    "\n",
    "highest_var_img = np.reshape(highest_var, (28, 28))\n",
    "\n",
    "plt.subplot(121)\n",
    "plt.plot(highest_var)\n",
    "plt.subplot(122)\n",
    "plt.imshow(highest_var_img, cmap='magma_r')\n",
    "plt.colorbar()"
   ]
  },
  {
   "cell_type": "code",
   "execution_count": null,
   "id": "b91a7396",
   "metadata": {},
   "outputs": [],
   "source": [
    "digit = mu - 10*highest_var\n",
    "plt.imshow(np.reshape(digit, (28, 28)), cmap='gray')\n",
    "plt.clim([0, 1])"
   ]
  },
  {
   "cell_type": "markdown",
   "id": "f354892f",
   "metadata": {},
   "source": [
    "Now draw a digit and project it onto the first few principal components"
   ]
  },
  {
   "cell_type": "code",
   "execution_count": null,
   "id": "cc06348f",
   "metadata": {},
   "outputs": [],
   "source": [
    "n_components = 10 # How many principal components to use\n",
    "width = 200  # canvas width\n",
    "height = 200 # canvas height\n",
    "center = height//2\n",
    "\n",
    "\n",
    "def project():\n",
    "    I = np.array(digit_image) # The image that we drew\n",
    "    I = I[:, :, 0]\n",
    "    dim = digits[0][0].shape[0]\n",
    "    I = resize(I, (dim, dim), anti_aliasing=True)\n",
    "    \n",
    "    plt.figure(figsize=(12, 6))\n",
    "    plt.subplot(121)\n",
    "    plt.imshow(I, cmap='gray', vmin=0, vmax=1)\n",
    "    plt.subplot(122)\n",
    "    \n",
    "    ## TODO: Fill code in below to project the digit image\n",
    "    ## you drew onto the first few directions of v, and add \n",
    "    ## the mean back\n",
    "    v0 = v[:, 0] # Direction of highest variance\n",
    "    u = I.flatten() - mu\n",
    "    \n",
    "    J = mu\n",
    "    #J = (np.sum(u*v0))*v0 + mu # Hold the result of the projection\n",
    "    for k in range(n_components):\n",
    "        J = J + np.dot(u, v[:, k])*v[:, k]\n",
    "    \n",
    "    J = np.reshape(J, (28, 28))\n",
    "    plt.imshow(J, cmap='gray', vmin=0, vmax=1)\n",
    "    plt.title(\"{} Components\".format(n_components))\n",
    "    \n",
    "        \n",
    "    root.destroy()\n",
    "\n",
    "def paint(event):\n",
    "    \"\"\"\n",
    "    Paint on the PIL canvas and the Tkinter canvas in parallel\n",
    "    Draw canvas will be saved, while Tkinter canvas shows\n",
    "    the user what they are drawing\n",
    "    \"\"\"\n",
    "    bs = 10\n",
    "    x1, y1 = (event.x - bs), (event.y - bs)\n",
    "    x2, y2 = (event.x + bs), (event.y + bs)\n",
    "    canvas.create_oval(x1, y1, x2, y2, fill=\"black\")\n",
    "    draw.ellipse([x1, y1, x2, y2], fill=\"#000000\")\n",
    "\n",
    "root = Tk()\n",
    "\n",
    "# create a tkinter canvas to draw on\n",
    "canvas = Canvas(root, width=width, height=height, bg='white')\n",
    "canvas.pack()\n",
    "\n",
    "# Create a PIL image and a drawer object\n",
    "digit_image = PIL.Image.new(\"RGB\", (width, height), (255, 255, 255))\n",
    "draw = ImageDraw.Draw(digit_image)\n",
    "canvas.pack(expand=YES, fill=BOTH)\n",
    "canvas.bind(\"<B1-Motion>\", paint)\n",
    "\n",
    "# add a button to save the image\n",
    "button=Button(text=\"project\",command=project)\n",
    "button.pack()\n",
    "\n",
    "root.mainloop()"
   ]
  },
  {
   "cell_type": "code",
   "execution_count": null,
   "id": "ed002238",
   "metadata": {},
   "outputs": [],
   "source": []
  }
 ],
 "metadata": {
  "kernelspec": {
   "display_name": "Python 3 (ipykernel)",
   "language": "python",
   "name": "python3"
  },
  "language_info": {
   "codemirror_mode": {
    "name": "ipython",
    "version": 3
   },
   "file_extension": ".py",
   "mimetype": "text/x-python",
   "name": "python",
   "nbconvert_exporter": "python",
   "pygments_lexer": "ipython3",
   "version": "3.11.3"
  }
 },
 "nbformat": 4,
 "nbformat_minor": 5
}
