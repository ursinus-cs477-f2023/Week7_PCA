{
 "cells": [
  {
   "cell_type": "code",
   "execution_count": null,
   "id": "9aafcc09",
   "metadata": {},
   "outputs": [],
   "source": [
    "import numpy as np\n",
    "import numpy.linalg as linalg\n",
    "import matplotlib.pyplot as plt\n",
    "import skimage\n",
    "import skimage.io\n",
    "import scipy.stats\n",
    "from skimage.transform import resize\n",
    "from matplotlib.offsetbox import OffsetImage, AnnotationBbox\n",
    "from PIL import ImageTk, Image, ImageDraw\n",
    "import PIL\n",
    "from tkinter import *"
   ]
  },
  {
   "cell_type": "markdown",
   "id": "06a3e65c",
   "metadata": {},
   "source": [
    "First let's load in the digits as before"
   ]
  },
  {
   "cell_type": "code",
   "execution_count": null,
   "id": "44aec08a",
   "metadata": {},
   "outputs": [],
   "source": [
    "# Load in all digits\n",
    "res = 28\n",
    "digits = []\n",
    "for i in range(10):\n",
    "    digits.append([])\n",
    "    I = skimage.io.imread(\"Digits/{}.png\".format(i))/255.0\n",
    "    row = 0\n",
    "    col = 0\n",
    "    while row < I.shape[0]:\n",
    "        col = 0\n",
    "        while col < I.shape[1]:\n",
    "            img = I[row:row+res, col:col+res]\n",
    "            if np.sum(img) > 0:\n",
    "                digits[i].append(img)\n",
    "            col += res\n",
    "        row += res\n",
    "    print(len(digits[i]), \"unique \", i, \" digits\")"
   ]
  },
  {
   "cell_type": "markdown",
   "id": "2b954816",
   "metadata": {},
   "source": [
    "Now let's put the digits into a data matrix, where each row is a digit and each column is a pixel index.  To do this, we're going to have to \"flatten\" the 2D arrays for each digit into a 1D array.  We'll go row by row in \"scanline order,\" so the first row goes into the first 28 dimensions, the second row goes into dimensions 29-56, etc.  Here's an example of using numpy's <code><a href = \"https://numpy.org/doc/stable/reference/generated/numpy.ndarray.flatten.html\">flatten</a></code> method to do this on an example 0 digit.  "
   ]
  },
  {
   "cell_type": "code",
   "execution_count": null,
   "id": "bb6e86c8",
   "metadata": {},
   "outputs": [],
   "source": [
    "digit = digits[0][100]\n",
    "print(digit.shape)\n",
    "digit_flat = digit.flatten()\n",
    "print(digit_flat.shape)\n",
    "\n",
    "fig = plt.figure(figsize=(12, 5))\n",
    "plt.subplot(121)\n",
    "plt.imshow(digit, cmap='gray')\n",
    "plt.subplot(122)\n",
    "plt.plot(digit_flat)"
   ]
  },
  {
   "cell_type": "markdown",
   "id": "bac09b2b",
   "metadata": {},
   "source": [
    "The original digit image is $28 \\times 28$ pixels, so when we flatten it, we get a 784 dimensional vector.  It's a little strange to look at, but we can kind of see the pattern.  Noting that pure black is 0 and pure white is 1, the top few rows are all white pixels, so we see it stays at 1 for a while, then it jumps down on each line when it passes through the 0 slice.  The animation below shows the flattening process in more detail\n",
    "\n",
    "<img src = \"FlatteningDigit.gif\">\n"
   ]
  },
  {
   "cell_type": "markdown",
   "id": "9f3c68cd",
   "metadata": {},
   "source": [
    "Now that we have a way to turn a digit into a vector, we can set up our data matrix <b>x</b>.  We'll also keep track of the actual labels of the digits in a parallel array <b>y</b>, though we won't actually use those labels in what we're going to do next"
   ]
  },
  {
   "cell_type": "code",
   "execution_count": null,
   "id": "fd27f71c",
   "metadata": {},
   "outputs": [],
   "source": [
    "X = []\n",
    "y = []\n",
    "for i in range(len(digits)):\n",
    "    for digit in digits[i]:\n",
    "        X.append(digit.flatten())\n",
    "        y.append(i)\n",
    "X = np.array(X)\n",
    "y = np.array(y)\n",
    "print(X.shape)"
   ]
  },
  {
   "cell_type": "markdown",
   "id": "5c03aa28",
   "metadata": {},
   "source": [
    "Let's compute PCA on the data matrix to find the directions of greatest variance.  First, we compute the mean of all of the data points, which corresponds to computing the mean over all rows"
   ]
  },
  {
   "cell_type": "code",
   "execution_count": null,
   "id": "6ed32547",
   "metadata": {},
   "outputs": [],
   "source": [
    "## TODO: Fill this in"
   ]
  },
  {
   "cell_type": "markdown",
   "id": "ea2932eb",
   "metadata": {},
   "source": [
    "Let's have a look at the mean.  We have to turn it back from a flattened vector into an image by using numpy's <code><a href = \"https://numpy.org/doc/stable/reference/generated/numpy.reshape.html\">reshape</a></code> method"
   ]
  },
  {
   "cell_type": "code",
   "execution_count": null,
   "id": "f5187876",
   "metadata": {},
   "outputs": [],
   "source": [
    "## TODO: Fill this in"
   ]
  },
  {
   "cell_type": "markdown",
   "id": "7c9b9190",
   "metadata": {},
   "source": [
    "Now we'll subtract off the mean from each row and compute the directions of maximum variance in what remains"
   ]
  },
  {
   "cell_type": "code",
   "execution_count": null,
   "id": "71e3403b",
   "metadata": {},
   "outputs": [],
   "source": [
    "## TODO: Fill this in"
   ]
  },
  {
   "cell_type": "markdown",
   "id": "743b39b4",
   "metadata": {},
   "source": [
    "To get an idea of how much variance each direction explains, we can create a <a href = \"https://en.wikipedia.org/wiki/Scree_plot\">scree plot</a>, which is simply plotting the variance of each component.  When we do this, we see that the variance is captured well by many fewer than 784 dimensions"
   ]
  },
  {
   "cell_type": "code",
   "execution_count": null,
   "id": "1606a090",
   "metadata": {},
   "outputs": [],
   "source": [
    "## TODO: Fill this in"
   ]
  },
  {
   "cell_type": "markdown",
   "id": "5c8c1a3c",
   "metadata": {},
   "source": [
    "Let's look at a cumulative sum of the ratio to the total variance to see how many components it takes us to explain 90% of the variance.  We find that this takes about 86 dimensions"
   ]
  },
  {
   "cell_type": "code",
   "execution_count": null,
   "id": "aa67b3b9",
   "metadata": {},
   "outputs": [],
   "source": [
    "wcumu = np.cumsum(w)/np.sum(w)\n",
    "plt.plot(wcumu)\n",
    "plt.plot([0, wcumu.size], [0.9, 0.9], linestyle='--')\n",
    "plt.xlabel(\"Component\")\n",
    "plt.ylabel(\"Ratio of Cumulative Explained Variance\")\n",
    "print(np.argmin(np.abs(wcumu-0.9)))"
   ]
  },
  {
   "cell_type": "markdown",
   "id": "09e17ef3",
   "metadata": {},
   "source": [
    "Let's pull out the first 10 directions of greatest variance and plot them.  Overall, the first 10 components account for about 50% of the variance in the dataset, and the first 20 components account for about 64% of the variance in the dataset (note the diminishing returns)"
   ]
  },
  {
   "cell_type": "code",
   "execution_count": null,
   "id": "9f8250ba",
   "metadata": {},
   "outputs": [],
   "source": [
    "print(wcumu[1])\n",
    "print(wcumu[9])\n",
    "print(wcumu[19])"
   ]
  },
  {
   "cell_type": "code",
   "execution_count": null,
   "id": "0fced6e1",
   "metadata": {},
   "outputs": [],
   "source": [
    "N = 20\n",
    "plt.figure(figsize=(5*3, 4*3))\n",
    "for i in range(N):\n",
    "    img = np.reshape(v[:, i], (28, 28))\n",
    "    plt.subplot(4, 5, i+1)\n",
    "    plt.imshow(img, cmap='magma')\n",
    "    plt.colorbar()\n",
    "    var = w[i]/np.sum(w)\n",
    "    plt.title(\"Component {}\\nExplained Var {:.1f} %\".format(i, var*100))\n",
    "plt.tight_layout()"
   ]
  },
  {
   "cell_type": "code",
   "execution_count": null,
   "id": "40f7e723",
   "metadata": {},
   "outputs": [],
   "source": [
    "proj = (X - XMu).dot(v[:, 0:N])\n",
    "idxs = np.random.permutation(X.shape[0])[0:1000]\n",
    "\n",
    "plt.figure(figsize=(20, 20))\n",
    "ax = plt.gca()\n",
    "for i in idxs:\n",
    "    patch = np.reshape(X[i, :], (res, res))\n",
    "    x, y = proj[i, 0:2]\n",
    "    im = OffsetImage(patch, zoom=0.75, cmap = 'gray')\n",
    "    ab = AnnotationBbox(im, (x, y), xycoords='data', frameon=False)\n",
    "    ax.add_artist(ab)\n",
    "ax.update_datalim(proj[:, 0:2])\n",
    "ax.autoscale()\n"
   ]
  },
  {
   "cell_type": "code",
   "execution_count": null,
   "id": "793fe41f",
   "metadata": {
    "scrolled": false
   },
   "outputs": [],
   "source": [
    "n_examples = 40\n",
    "\n",
    "plt.figure(figsize=(12, n_examples))\n",
    "\n",
    "all_ncomponents = [2, 5, 10, 20, 40, 100]\n",
    "n_cols = len(all_ncomponents)+1\n",
    "\n",
    "# Plot the original digits\n",
    "np.random.seed(0)\n",
    "idxs = np.random.permutation(X.shape[0])[0:n_examples]\n",
    "for i, idx in enumerate(idxs):\n",
    "    plt.subplot(n_examples, n_cols, 1+n_cols*i)\n",
    "    plt.imshow(np.reshape(X[idx, :], (res, res)), cmap='gray')\n",
    "    plt.clim([0, 1])\n",
    "    plt.axis(\"off\")\n",
    "    if i == 0:\n",
    "        plt.title(\"Num_Components\")\n",
    "\n",
    "\n",
    "for col, n_components in enumerate(all_ncomponents):\n",
    "    for i, idx in enumerate(idxs):\n",
    "        x = X[idx, :] - mu\n",
    "        proj = np.array(mu)\n",
    "        for k in range(n_components):\n",
    "            proj += v[:, k]*np.sum(v[:, k]*x)\n",
    "        plt.subplot(n_examples, n_cols, n_cols*i + col + 2)\n",
    "        plt.imshow(np.reshape(proj, (res, res)), cmap='gray')\n",
    "        plt.axis(\"off\")\n",
    "        plt.clim([0, 1])\n",
    "        if i == 0:\n",
    "            plt.title(\"{}\\n{}x\".format(n_components, x.size/n_components))"
   ]
  },
  {
   "cell_type": "code",
   "execution_count": null,
   "id": "cfdf7ab0",
   "metadata": {},
   "outputs": [],
   "source": []
  }
 ],
 "metadata": {
  "kernelspec": {
   "display_name": "Python 3 (ipykernel)",
   "language": "python",
   "name": "python3"
  },
  "language_info": {
   "codemirror_mode": {
    "name": "ipython",
    "version": 3
   },
   "file_extension": ".py",
   "mimetype": "text/x-python",
   "name": "python",
   "nbconvert_exporter": "python",
   "pygments_lexer": "ipython3",
   "version": "3.11.3"
  }
 },
 "nbformat": 4,
 "nbformat_minor": 5
}
