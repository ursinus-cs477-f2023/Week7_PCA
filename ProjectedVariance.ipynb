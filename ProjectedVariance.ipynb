{
 "cells": [
  {
   "cell_type": "code",
   "execution_count": null,
   "id": "7e88ad40",
   "metadata": {},
   "outputs": [],
   "source": [
    "import numpy as np\n",
    "import matplotlib.pyplot as plt\n",
    "\n",
    "def get_random_pointcloud(seed, N, sigma1=3, sigma2=1):\n",
    "    \"\"\"\n",
    "    Parameters\n",
    "    ----------\n",
    "    seed: int\n",
    "        Random seed for repeatable results\n",
    "    N: int\n",
    "        Number of points\n",
    "    sigma1: float\n",
    "        Standard deviation along first dimension\n",
    "    sigma2: float\n",
    "        Standard deviation along second dimension\n",
    "    \n",
    "    Return\n",
    "    ------\n",
    "    X: ndarray(N, 2)\n",
    "        2D point cloud\n",
    "    \"\"\"\n",
    "    np.random.seed(seed)\n",
    "    u = np.random.rand(2)\n",
    "    u = u/np.sqrt(np.sum(u**2))\n",
    "    v = np.array([u[1], -u[0]])\n",
    "    X = np.zeros((N, 2))\n",
    "    X = sigma1*np.random.randn(N, 1)*u[None, :]\n",
    "    X += np.random.randn(N, 1)*v[None, :]\n",
    "    return X"
   ]
  },
  {
   "cell_type": "code",
   "execution_count": null,
   "id": "206f8c32",
   "metadata": {},
   "outputs": [],
   "source": [
    "def plot_proj(X, u):\n",
    "    p = X.dot(u)\n",
    "    sqrVar = np.sum(p*p)\n",
    "    plt.scatter(X[:, 0], X[:, 1], c=p, cmap='magma')\n",
    "\n",
    "    ax = plt.gca()\n",
    "    ax.arrow(0, 0, u[0]*2, u[1]*2, head_width = 0.25, head_length = 0.5, fc = 'k', ec = 'k', width = 0.05)\n",
    "    plt.title(\"Squared Variance: {:.6f}\".format(sqrVar))\n",
    "    plt.axis(\"equal\")"
   ]
  },
  {
   "cell_type": "code",
   "execution_count": null,
   "id": "a3ba7a94",
   "metadata": {},
   "outputs": [],
   "source": [
    "X = get_random_pointcloud(0, 1000)"
   ]
  },
  {
   "cell_type": "code",
   "execution_count": null,
   "id": "a44593d6",
   "metadata": {},
   "outputs": [],
   "source": [
    "u = np.array([1, 0])\n",
    "u = u/np.sqrt(np.sum(u**2)) # Normalizes the vector so that |u| = 1\n",
    "plot_proj(X, u)"
   ]
  },
  {
   "cell_type": "code",
   "execution_count": null,
   "id": "98dbcb7f",
   "metadata": {},
   "outputs": [],
   "source": []
  }
 ],
 "metadata": {
  "kernelspec": {
   "display_name": "Python 3 (ipykernel)",
   "language": "python",
   "name": "python3"
  },
  "language_info": {
   "codemirror_mode": {
    "name": "ipython",
    "version": 3
   },
   "file_extension": ".py",
   "mimetype": "text/x-python",
   "name": "python",
   "nbconvert_exporter": "python",
   "pygments_lexer": "ipython3",
   "version": "3.11.3"
  }
 },
 "nbformat": 4,
 "nbformat_minor": 5
}
